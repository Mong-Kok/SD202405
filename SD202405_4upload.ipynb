{
 "cells": [
  {
   "cell_type": "code",
   "execution_count": null,
   "id": "50027321",
   "metadata": {},
   "outputs": [],
   "source": [
    "from google.colab import drive\n",
    "\n",
    "drive.mount('/content/drive')"
   ]
  },
  {
   "cell_type": "code",
   "execution_count": null,
   "id": "36c23f8f",
   "metadata": {},
   "outputs": [],
   "source": [
    "!pip install yt-dlp # Youube動画のダウンロードのためにyt-dlpを入れる\n",
    "\n",
    "url=\"https://www.youtube.com/watch?v=qh9YJO5k4GY\" # ダウンロードURL\n",
    "root=\"drive/MyDrive\"               # ファイルパスを設定\n",
    "in_path=root+'/demucs/'; out_path=root+'/demucs_separated/'\n",
    "\n",
    "from yt_dlp import YoutubeDL\n",
    "ydl_opts={'format':'bestaudio', 'outtmpl':root+'/demucs/%(title)s.mp3'}\n",
    "with YoutubeDL(ydl_opts) as ydl:　# Youtube動画をMP3形式で保存する\n",
    "    result=ydl.download([url])"
   ]
  },
  {
   "cell_type": "code",
   "execution_count": null,
   "id": "ff6d876f",
   "metadata": {},
   "outputs": [],
   "source": [
    "# 音源分離するためにdemucsを入れる\n",
    "!python3 -m pip install -U git+https://github.com/facebookresearch/demucs#egg=demucs\n",
    "\n",
    "import demucs.separate\n",
    "\n",
    "options = [\"drive/MyDrive/demucs/The Beatles - My Bonnie (German Intro).mp3\",\n",
    "           \"-o\", \"drive/MyDrive/demucs_separated\"]\n",
    "demucs.separate.main(options)"
   ]
  },
  {
   "cell_type": "code",
   "execution_count": null,
   "id": "b573270d",
   "metadata": {},
   "outputs": [],
   "source": [
    "!pip install basic-pitch\n",
    "!pip uninstall tensorflow-gpu\n",
    "!pip install tensorflow-gpu==2.8\n",
    "!apt install --allow-change-held-packages libcudnn8=8.1.0.77-1+cuda11.2\n",
    "\n",
    "# 音声をMIDIファイルに変換\n",
    "!basic-pitch \"drive/MyDrive/demucs_separated/htdemucs\" \\\n",
    "\"drive/MyDrive/demucs_separated/htdemucs/The Beatles - My Bonnie (German Intro)/vocals.wav\"\n",
    "!basic-pitch \"drive/MyDrive/demucs_separated/htdemucs\" \\\n",
    "\"drive/MyDrive/demucs_separated/htdemucs/The Beatles - My Bonnie (German Intro)/bass.wav\"\n",
    "!basic-pitch \"drive/MyDrive/demucs_separated/htdemucs\" \\\n",
    "\"drive/MyDrive/demucs_separated/htdemucs/The Beatles - My Bonnie (German Intro)/drums.wav\"\n",
    "!basic-pitch \"drive/MyDrive/demucs_separated/htdemucs\" \\\n",
    "\"drive/MyDrive/demucs_separated/htdemucs/The Beatles - My Bonnie (German Intro)/other.wav\""
   ]
  },
  {
   "cell_type": "code",
   "execution_count": null,
   "id": "3e82738a",
   "metadata": {},
   "outputs": [],
   "source": [
    "!pip install --upgrade music21\n",
    "!apt-get install musescore\n",
    "!apt-get install xvfb\n",
    "!sh -e /etc/init.d/x11-common start\n",
    "\n",
    "import os\n",
    "os.putenv('DISPLAY', ':99.0')\n",
    "!start-stop-daemon --start --pidfile /var/run/xvfb.pid \\\n",
    "--make-pidfile --background --exec /usr/bin/Xvfb -- :99 \\\n",
    "    -screen 0 1024x768x24 -ac +extension GLX +render -noreset"
   ]
  },
  {
   "cell_type": "code",
   "execution_count": null,
   "id": "379c7782",
   "metadata": {},
   "outputs": [],
   "source": [
    "from music21 import *\n",
    "\n",
    "us = environment.UserSettings()\n",
    "us['musescoreDirectPNGPath'] = '/usr/bin/mscore'\n",
    "us['musicxmlPath'] = '/usr/bin/mscore'\n",
    "us['directoryScratch'] = '/tmp'"
   ]
  },
  {
   "cell_type": "code",
   "execution_count": null,
   "id": "cd24a99b",
   "metadata": {},
   "outputs": [],
   "source": [
    "path = 'drive/MyDrive/demucs_separated/htdemucs/vocals_basic_pitch.mid'\n",
    "song=converter.parse(path)\n",
    "song.show()"
   ]
  },
  {
   "cell_type": "code",
   "execution_count": null,
   "id": "7472cb98",
   "metadata": {},
   "outputs": [],
   "source": [
    "song.plot('horizontalbar')\n",
    "song.plot('scatter', 'quarterLength', 'pitch', title='My Bonnie')\n",
    "song.plot('3dbars')"
   ]
  },
  {
   "cell_type": "code",
   "execution_count": null,
   "id": "fabd21ef",
   "metadata": {},
   "outputs": [],
   "source": [
    "import MachineLearningAutomaticMusicMarkovChain\n",
    "\n",
    "mylist=MachineLearningAutomaticMusicMarkovChain.ConverMiditoList(\n",
    "    'drive/MyDrive/demucs_separated/htdemucs/vocals_basic_pitch.mid')\n",
    "myChainfirstorder=MachineLearningAutomaticMusicMarkovChain.createMarkovChain(mylist)\n",
    "song = MachineLearningAutomaticMusicMarkovChain.buildsong(myChainfirstorder,500)\n",
    "song.write(\"midi\",\n",
    "  \"drive/MyDrive/demucs_separated/new_song.mid\")"
   ]
  },
  {
   "cell_type": "code",
   "execution_count": null,
   "id": "e45ebb19",
   "metadata": {},
   "outputs": [],
   "source": [
    "song.show()"
   ]
  }
 ],
 "metadata": {
  "kernelspec": {
   "display_name": "Python 3 (ipykernel)",
   "language": "python",
   "name": "python3"
  },
  "language_info": {
   "codemirror_mode": {
    "name": "ipython",
    "version": 3
   },
   "file_extension": ".py",
   "mimetype": "text/x-python",
   "name": "python",
   "nbconvert_exporter": "python",
   "pygments_lexer": "ipython3",
   "version": "3.12.1"
  },
  "toc": {
   "base_numbering": 1,
   "nav_menu": {},
   "number_sections": true,
   "sideBar": true,
   "skip_h1_title": false,
   "title_cell": "Table of Contents",
   "title_sidebar": "Contents",
   "toc_cell": false,
   "toc_position": {},
   "toc_section_display": true,
   "toc_window_display": false
  }
 },
 "nbformat": 4,
 "nbformat_minor": 5
}
